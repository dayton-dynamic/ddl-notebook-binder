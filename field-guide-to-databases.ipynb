{
 "cells": [
  {
   "cell_type": "markdown",
   "metadata": {},
   "source": [
    "Use SHIFT+ENTER on each cell to execute it!"
   ]
  },
  {
   "cell_type": "markdown",
   "metadata": {},
   "source": [
    "# Field Guide to Databases\n",
    "\n",
    "December 2017"
   ]
  },
  {
   "cell_type": "markdown",
   "metadata": {},
   "source": [
    "# Key:value stores"
   ]
  },
  {
   "cell_type": "code",
   "execution_count": null,
   "metadata": {},
   "outputs": [],
   "source": [
    "import dbm\n",
    "import re"
   ]
  },
  {
   "cell_type": "markdown",
   "metadata": {},
   "source": [
    "## grab some data\n",
    "\n",
    "UNIX-based machines generally have a [`words` file](https://en.wikipedia.org/wiki/Words_(Unix)) (used for spellchecking) in `/usr/share/dict/words` or `/usr/dict/words`.  We'll use that as a source of data.\n",
    "\n",
    "In this environment, we've copied `words` into the local directory so that you can access it online."
   ]
  },
  {
   "cell_type": "code",
   "execution_count": 2,
   "metadata": {},
   "outputs": [
    {
     "name": "stdout",
     "output_type": "stream",
     "text": [
      "A\r\n",
      "a\r\n",
      "aa\r\n",
      "aal\r\n",
      "aalii\r\n",
      "aam\r\n",
      "Aani\r\n",
      "aardvark\r\n",
      "aardwolf\r\n",
      "Aaron\r\n"
     ]
    }
   ],
   "source": [
    "# !head /usr/share/dict/words\n",
    "!head words"
   ]
  },
  {
   "cell_type": "code",
   "execution_count": 3,
   "metadata": {},
   "outputs": [],
   "source": [
    "import re\n",
    "vowel_pattern = re.compile('[aeiou]')\n",
    "raw_data = {}\n",
    "words_path = 'words'  # '/usr/share/dict/words' or '/usr/dict/words' on most machines\n",
    "with open(words_path) as infile:\n",
    "    for word in infile.readlines():\n",
    "        vowels = vowel_pattern.findall(word)\n",
    "        raw_data[word.rstrip()] = vowels"
   ]
  },
  {
   "cell_type": "code",
   "execution_count": 4,
   "metadata": {},
   "outputs": [
    {
     "data": {
      "text/plain": [
       "['e', 'i', 'o', 'e']"
      ]
     },
     "execution_count": 4,
     "metadata": {},
     "output_type": "execute_result"
    }
   ],
   "source": [
    "raw_data['helicopter']"
   ]
  },
  {
   "cell_type": "code",
   "execution_count": 5,
   "metadata": {},
   "outputs": [],
   "source": [
    "import dbm\n",
    "db = dbm.open('vowels.dbm', 'n')"
   ]
  },
  {
   "cell_type": "code",
   "execution_count": 6,
   "metadata": {},
   "outputs": [
    {
     "ename": "TypeError",
     "evalue": "gdbm mappings have byte or string elements only",
     "output_type": "error",
     "traceback": [
      "\u001b[0;31m---------------------------------------------------------------------------\u001b[0m",
      "\u001b[0;31mTypeError\u001b[0m                                 Traceback (most recent call last)",
      "\u001b[0;32m<ipython-input-6-95e809cf1d1c>\u001b[0m in \u001b[0;36m<module>\u001b[0;34m()\u001b[0m\n\u001b[1;32m      1\u001b[0m \u001b[0;32mfor\u001b[0m \u001b[0;34m(\u001b[0m\u001b[0mk\u001b[0m\u001b[0;34m,\u001b[0m \u001b[0mv\u001b[0m\u001b[0;34m)\u001b[0m \u001b[0;32min\u001b[0m \u001b[0mraw_data\u001b[0m\u001b[0;34m.\u001b[0m\u001b[0mitems\u001b[0m\u001b[0;34m(\u001b[0m\u001b[0;34m)\u001b[0m\u001b[0;34m:\u001b[0m\u001b[0;34m\u001b[0m\u001b[0m\n\u001b[0;32m----> 2\u001b[0;31m     \u001b[0mdb\u001b[0m\u001b[0;34m[\u001b[0m\u001b[0mk\u001b[0m\u001b[0;34m]\u001b[0m \u001b[0;34m=\u001b[0m \u001b[0mv\u001b[0m\u001b[0;34m\u001b[0m\u001b[0m\n\u001b[0m",
      "\u001b[0;31mTypeError\u001b[0m: gdbm mappings have byte or string elements only"
     ]
    }
   ],
   "source": [
    "for (k, v) in raw_data.items():\n",
    "    db[k] = v"
   ]
  },
  {
   "cell_type": "code",
   "execution_count": 7,
   "metadata": {},
   "outputs": [],
   "source": [
    "for (k, v) in raw_data.items():\n",
    "    db[k] = str(v)"
   ]
  },
  {
   "cell_type": "code",
   "execution_count": 8,
   "metadata": {},
   "outputs": [
    {
     "data": {
      "text/plain": [
       "b\"['i', 'a', 'a']\""
      ]
     },
     "execution_count": 8,
     "metadata": {},
     "output_type": "execute_result"
    }
   ],
   "source": [
    "db['miasma']"
   ]
  },
  {
   "cell_type": "code",
   "execution_count": 9,
   "metadata": {},
   "outputs": [
    {
     "data": {
      "text/plain": [
       "['i', 'a', 'a']"
      ]
     },
     "execution_count": 9,
     "metadata": {},
     "output_type": "execute_result"
    }
   ],
   "source": [
    "eval(db['miasma'])"
   ]
  },
  {
   "cell_type": "markdown",
   "metadata": {},
   "source": [
    "See also: [shelve](https://docs.python.org/3.1/library/shelve.html)"
   ]
  },
  {
   "cell_type": "markdown",
   "metadata": {},
   "source": [
    " # Document db"
   ]
  },
  {
   "cell_type": "code",
   "execution_count": 10,
   "metadata": {},
   "outputs": [],
   "source": [
    "def word_info(word):\n",
    "    vowels = vowel_pattern.findall(word)\n",
    "    result = {\n",
    "        'raw': word,\n",
    "        'length': len(word),\n",
    "        'vowels': vowels,\n",
    "        'n_vowels': len(vowels),\n",
    "    }\n",
    "    return result"
   ]
  },
  {
   "cell_type": "code",
   "execution_count": 11,
   "metadata": {},
   "outputs": [
    {
     "data": {
      "text/plain": [
       "{'length': 8, 'n_vowels': 2, 'raw': 'platypus', 'vowels': ['a', 'u']}"
      ]
     },
     "execution_count": 11,
     "metadata": {},
     "output_type": "execute_result"
    }
   ],
   "source": [
    "word_info('platypus')"
   ]
  },
  {
   "cell_type": "markdown",
   "metadata": {},
   "source": [
    "# Warning: won't work online\n",
    "\n",
    "The rest of these cells depend on having MongoDB and neo4j servers running on your machine - in the Binder online environment, those services aren't present, so you'll get errors.  Download this notebook and run it locally to experiment with them!"
   ]
  },
  {
   "cell_type": "markdown",
   "metadata": {},
   "source": [
    "## MongoDB"
   ]
  },
  {
   "cell_type": "markdown",
   "metadata": {},
   "source": [
    "Install MongoDB and create a directory for it to save databases to - by default, `/data/db`.\n",
    "\n",
    "    % sudo mkdir -p /data/db\n",
    "    Password:\n",
    "    ~/Dropbox/arguments % whoami\n",
    "    catherine\n",
    "    ~/Dropbox/arguments % sudo chown catherine:everyone /data/db\n",
    "    ~/Dropbox/arguments % mongod\n"
   ]
  },
  {
   "cell_type": "markdown",
   "metadata": {},
   "source": [
    "Start the Mongo server daemon.\n",
    "\n",
    "    % mongod\n",
    "    2017-12-12T17:44:13.727-0500 I CONTROL  [initandlisten] MongoDB starting : pid=89611 port=27017 dbpath=/data/db 64-bit host=I05EDJ-2LGFH05.netgear.com\n",
    "    2017-12-12T17:44:13.728-0500 I CONTROL  [initandlisten] db version v3.4.10\n",
    "    2017-12-12T17:44:13.728-0500 I CONTROL  [initandlisten] git version: 078f28920cb24de0dd479b5ea6c66c644f6326e9\n",
    "    2017-12-12T17:44:13.728-0500 I CONTROL  [initandlisten] OpenSSL version: OpenSSL 1.0.2m  2 Nov 2017\n",
    "    2017-12-12T17:44:13.728-0500 I CONTROL  [initandlisten] allocator: system\n",
    "    2017-12-12T17:44:13.728-0500 I CONTROL  [initandlisten] modules: none\n",
    "    2017-12-12T17:44:13.728-0500 I CONTROL  [initandlisten] build environment:\n",
    "    2017-12-12T17:44:13.729-0500 I CONTROL  [initandlisten]     distarch: x86_64\n",
    "    2017-12-12T17:44:13.729-0500 I CONTROL  [initandlisten]     target_arch: x86_64\n",
    "    2017-12-12T17:44:13.729-0500 I CONTROL  [initandlisten] options: {}\n",
    "    2017-12-12T17:44:13.732-0500 I STORAGE  [initandlisten] exception in initAndListen: 29 Data directory /data/db not found., terminating\n",
    "    2017-12-12T17:44:13.732-0500 I NETWORK  [initandlisten] shutdown: going to close listening sockets...\n",
    "    2017-12-12T17:44:13.732-0500 I NETWORK  [initandlisten] shutdown: going to flush diaglog...\n",
    "    2017-12-12T17:44:13.733-0500 I CONTROL  [initandlisten] now exiting\n",
    "    2017-12-12T17:44:13.733-0500 I CONTROL  [initandlisten] shutting down with code:100\n"
   ]
  },
  {
   "cell_type": "code",
   "execution_count": 12,
   "metadata": {},
   "outputs": [
    {
     "name": "stdout",
     "output_type": "stream",
     "text": [
      "Requirement already satisfied: pymongo in ./.direnv/python-3.6.0/lib/python3.6/site-packages\r\n"
     ]
    }
   ],
   "source": [
    "!pip install pymongo"
   ]
  },
  {
   "cell_type": "code",
   "execution_count": 13,
   "metadata": {},
   "outputs": [],
   "source": [
    "import pymongo"
   ]
  },
  {
   "cell_type": "code",
   "execution_count": 14,
   "metadata": {},
   "outputs": [],
   "source": [
    ">>> from pymongo import MongoClient\n",
    ">>> client = MongoClient()"
   ]
  },
  {
   "cell_type": "code",
   "execution_count": 15,
   "metadata": {},
   "outputs": [],
   "source": [
    "db = client.word_db"
   ]
  },
  {
   "cell_type": "markdown",
   "metadata": {},
   "source": [
    "### everything created lazily"
   ]
  },
  {
   "cell_type": "code",
   "execution_count": 28,
   "metadata": {},
   "outputs": [
    {
     "name": "stderr",
     "output_type": "stream",
     "text": [
      "/Volumes/exlinux/Users/catherine/org/ddl/ddl-notebook-binder/.direnv/python-3.6.0/lib/python3.6/site-packages/ipykernel_launcher.py:1: DeprecationWarning: insert is deprecated. Use insert_one or insert_many instead.\n",
      "  \"\"\"Entry point for launching an IPython kernel.\n"
     ]
    }
   ],
   "source": [
    "results = db.word_collection.insert(word_info(word) for word in raw_data)"
   ]
  },
  {
   "cell_type": "code",
   "execution_count": 29,
   "metadata": {},
   "outputs": [
    {
     "data": {
      "text/plain": [
       "{'_id': ObjectId('5a3410c01ce5370fea3bcd00'),\n",
       " 'length': 1,\n",
       " 'n_vowels': 0,\n",
       " 'raw': 'A',\n",
       " 'vowels': []}"
      ]
     },
     "execution_count": 29,
     "metadata": {},
     "output_type": "execute_result"
    }
   ],
   "source": [
    "db.word_collection.find_one()"
   ]
  },
  {
   "cell_type": "code",
   "execution_count": 30,
   "metadata": {},
   "outputs": [
    {
     "data": {
      "text/plain": [
       "[{'_id': ObjectId('5a3410c01ce5370fea3bcede'),\n",
       "  'length': 5,\n",
       "  'n_vowels': 1,\n",
       "  'raw': 'Abrus',\n",
       "  'vowels': ['u']},\n",
       " {'_id': ObjectId('5a3410c01ce5370fea3bcf71'),\n",
       "  'length': 8,\n",
       "  'n_vowels': 1,\n",
       "  'raw': 'Absyrtus',\n",
       "  'vowels': ['u']},\n",
       " {'_id': ObjectId('5a3410c01ce5370fea3bcf77'),\n",
       "  'length': 3,\n",
       "  'n_vowels': 1,\n",
       "  'raw': 'Abu',\n",
       "  'vowels': ['u']},\n",
       " {'_id': ObjectId('5a3410c01ce5370fea3bd480'),\n",
       "  'length': 5,\n",
       "  'n_vowels': 1,\n",
       "  'raw': 'Acrux',\n",
       "  'vowels': ['u']},\n",
       " {'_id': ObjectId('5a3410c01ce5370fea3bd60a'),\n",
       "  'length': 4,\n",
       "  'n_vowels': 1,\n",
       "  'raw': 'Addu',\n",
       "  'vowels': ['u']},\n",
       " {'_id': ObjectId('5a3410c01ce5370fea3be066'),\n",
       "  'length': 5,\n",
       "  'n_vowels': 1,\n",
       "  'raw': 'Aldus',\n",
       "  'vowels': ['u']},\n",
       " {'_id': ObjectId('5a3410c01ce5370fea3be0ff'),\n",
       "  'length': 5,\n",
       "  'n_vowels': 1,\n",
       "  'raw': 'Alfur',\n",
       "  'vowels': ['u']},\n",
       " {'_id': ObjectId('5a3410c01ce5370fea3be3d9'),\n",
       "  'length': 5,\n",
       "  'n_vowels': 1,\n",
       "  'raw': 'Alnus',\n",
       "  'vowels': ['u']},\n",
       " {'_id': ObjectId('5a3410c01ce5370fea3be518'),\n",
       "  'length': 4,\n",
       "  'n_vowels': 1,\n",
       "  'raw': 'Alur',\n",
       "  'vowels': ['u']},\n",
       " {'_id': ObjectId('5a3410c01ce5370fea3be54c'),\n",
       "  'length': 7,\n",
       "  'n_vowels': 1,\n",
       "  'raw': 'Alyssum',\n",
       "  'vowels': ['u']}]"
      ]
     },
     "execution_count": 30,
     "metadata": {},
     "output_type": "execute_result"
    }
   ],
   "source": [
    "list(db.word_collection.find({'vowels': ['u']}))[:10]"
   ]
  },
  {
   "cell_type": "code",
   "execution_count": 31,
   "metadata": {},
   "outputs": [
    {
     "data": {
      "text/plain": [
       "{'_id': ObjectId('5a3410c01ce5370fea3bcd00'),\n",
       " 'length': 1,\n",
       " 'n_vowels': 0,\n",
       " 'raw': 'A',\n",
       " 'vowels': []}"
      ]
     },
     "execution_count": 31,
     "metadata": {},
     "output_type": "execute_result"
    }
   ],
   "source": [
    "db.word_collection.find_one({'n_vowels': 0})"
   ]
  },
  {
   "cell_type": "code",
   "execution_count": 32,
   "metadata": {},
   "outputs": [
    {
     "data": {
      "text/plain": [
       "{'_id': ObjectId('5a3410c11ce5370fea3d3850'),\n",
       " 'length': 13,\n",
       " 'n_vowels': 6,\n",
       " 'raw': 'inconcealable',\n",
       " 'vowels': ['i', 'o', 'e', 'a', 'a', 'e']}"
      ]
     },
     "execution_count": 32,
     "metadata": {},
     "output_type": "execute_result"
    }
   ],
   "source": [
    "db.word_collection.find_one({'vowels': ['i', 'o', 'e', 'a', 'a', 'e']})"
   ]
  },
  {
   "cell_type": "code",
   "execution_count": 33,
   "metadata": {},
   "outputs": [
    {
     "data": {
      "text/plain": [
       "[{'_id': ObjectId('5a3410c11ce5370fea3d3850'),\n",
       "  'length': 13,\n",
       "  'n_vowels': 6,\n",
       "  'raw': 'inconcealable',\n",
       "  'vowels': ['i', 'o', 'e', 'a', 'a', 'e']},\n",
       " {'_id': ObjectId('5a3410c11ce5370fea3d3873'),\n",
       "  'length': 13,\n",
       "  'n_vowels': 6,\n",
       "  'raw': 'incongealable',\n",
       "  'vowels': ['i', 'o', 'e', 'a', 'a', 'e']}]"
      ]
     },
     "execution_count": 33,
     "metadata": {},
     "output_type": "execute_result"
    }
   ],
   "source": [
    "list(db.word_collection.find({'vowels': ['i', 'o', 'e', 'a', 'a', 'e']}))"
   ]
  },
  {
   "cell_type": "code",
   "execution_count": 34,
   "metadata": {},
   "outputs": [
    {
     "data": {
      "text/plain": [
       "235886"
      ]
     },
     "execution_count": 34,
     "metadata": {},
     "output_type": "execute_result"
    }
   ],
   "source": [
    "db.word_collection.count()"
   ]
  },
  {
   "cell_type": "code",
   "execution_count": 35,
   "metadata": {},
   "outputs": [
    {
     "data": {
      "text/plain": [
       "235886"
      ]
     },
     "execution_count": 35,
     "metadata": {},
     "output_type": "execute_result"
    }
   ],
   "source": [
    "db.word_collection.find().count()"
   ]
  },
  {
   "cell_type": "code",
   "execution_count": 36,
   "metadata": {},
   "outputs": [
    {
     "data": {
      "text/plain": [
       "[{'_id': ObjectId('5a3410c01ce5370fea3be757'),\n",
       "  'length': 21,\n",
       "  'n_vowels': 11,\n",
       "  'raw': 'aminoacetophenetidine',\n",
       "  'vowels': ['a', 'i', 'o', 'a', 'e', 'o', 'e', 'e', 'i', 'i', 'e']},\n",
       " {'_id': ObjectId('5a3410c11ce5370fea3de4fe'),\n",
       "  'length': 20,\n",
       "  'n_vowels': 11,\n",
       "  'raw': 'palaeometeorological',\n",
       "  'vowels': ['a', 'a', 'e', 'o', 'e', 'e', 'o', 'o', 'o', 'i', 'a']},\n",
       " {'_id': ObjectId('5a3410c11ce5370fea3df976'),\n",
       "  'length': 23,\n",
       "  'n_vowels': 11,\n",
       "  'raw': 'pericardiomediastinitis',\n",
       "  'vowels': ['e', 'i', 'a', 'i', 'o', 'e', 'i', 'a', 'i', 'i', 'i']},\n",
       " {'_id': ObjectId('5a3410c31ce5370fea3f6512'),\n",
       "  'length': 22,\n",
       "  'n_vowels': 11,\n",
       "  'raw': 'zoologicoarchaeologist',\n",
       "  'vowels': ['o', 'o', 'o', 'i', 'o', 'a', 'a', 'e', 'o', 'o', 'i']}]"
      ]
     },
     "execution_count": 36,
     "metadata": {},
     "output_type": "execute_result"
    }
   ],
   "source": [
    "list(db.word_collection.find({'n_vowels': {'$gt': 10}}))"
   ]
  },
  {
   "cell_type": "code",
   "execution_count": 37,
   "metadata": {},
   "outputs": [
    {
     "name": "stdout",
     "output_type": "stream",
     "text": [
      "CPU times: user 3 µs, sys: 0 ns, total: 3 µs\n",
      "Wall time: 5.96 µs\n"
     ]
    },
    {
     "data": {
      "text/plain": [
       "517"
      ]
     },
     "execution_count": 37,
     "metadata": {},
     "output_type": "execute_result"
    }
   ],
   "source": [
    "%time\n",
    "db.word_collection.find({'vowels': ['u', 'o']}).count()"
   ]
  },
  {
   "cell_type": "code",
   "execution_count": 38,
   "metadata": {},
   "outputs": [],
   "source": [
    "result = db.profiles.create_index([('vowels', pymongo.ASCENDING)],\n",
    "                                 unique=False)"
   ]
  },
  {
   "cell_type": "code",
   "execution_count": 39,
   "metadata": {},
   "outputs": [
    {
     "name": "stdout",
     "output_type": "stream",
     "text": [
      "CPU times: user 2 µs, sys: 0 ns, total: 2 µs\n",
      "Wall time: 5.01 µs\n"
     ]
    },
    {
     "data": {
      "text/plain": [
       "2020"
      ]
     },
     "execution_count": 39,
     "metadata": {},
     "output_type": "execute_result"
    }
   ],
   "source": [
    "%time\n",
    "db.word_collection.find({'vowels': ['e', 'e']}).count()"
   ]
  },
  {
   "cell_type": "code",
   "execution_count": null,
   "metadata": {},
   "outputs": [],
   "source": [
    "db.drop_collection('word_collection')"
   ]
  },
  {
   "cell_type": "markdown",
   "metadata": {},
   "source": [
    "# Graph databases: Neo4j"
   ]
  },
  {
   "cell_type": "markdown",
   "metadata": {},
   "source": [
    "    % brew install neo4j\n",
    "    % neo4j start\n",
    "    % open http://localhost:7474"
   ]
  }
 ],
 "metadata": {
  "kernelspec": {
   "display_name": "Python 3",
   "language": "python",
   "name": "python3"
  },
  "language_info": {
   "codemirror_mode": {
    "name": "ipython",
    "version": 3
   },
   "file_extension": ".py",
   "mimetype": "text/x-python",
   "name": "python",
   "nbconvert_exporter": "python",
   "pygments_lexer": "ipython3",
   "version": "3.6.0"
  }
 },
 "nbformat": 4,
 "nbformat_minor": 2
}
